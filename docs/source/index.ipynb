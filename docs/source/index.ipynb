{
 "cells": [
  {
   "cell_type": "markdown",
   "metadata": {},
   "source": [
    "# Spreadsheet widget for the Jupyter Notebook\n",
    "## Installation\n",
    "\n",
    "With conda:\n",
    "\n",
    "```\n",
    "$ conda install -c conda-forge ipysheet\n",
    "```\n",
    "\n",
    "With pip:\n",
    "\n",
    "```\n",
    "$ pip install ipysheet\n",
    "```\n",
    "\n",
    "To make it work for Jupyter lab:\n",
    "```\n",
    "$ jupyter labextension install ipysheet\n",
    "```\n",
    "\n",
    "If you have notebook 5.2 or below, you also need to execute:\n",
    "```\n",
    "$ jupyter nbextension enable --py --sys-prefix ipysheet\n",
    "$ jupyter nbextension enable --py --sys-prefix ipysheet.renderer_nbext\n",
    "```"
   ]
  },
  {
   "cell_type": "markdown",
   "metadata": {},
   "source": [
    "# Getting started\n",
    "Although ipysheet contains an object oriented interface, we recomment using the \"state machine\" based interface, similar to matplotlib's pyplot/pylab interface. Comparible to matplotlib pylab interface, this interface keeps track of the current sheet. Using the [cell](api.rst#ipysheet.easy.cell) function, [Cell](api.rst#ipysheet.sheet.Cell) widgets are added to the current sheet.\n",
    "\n",
    "Importing ipysheet and invoking the [sheet](api.rst#ipysheet.easy.sheet) function will create the default spreadsheet widget. The function returns a [Sheet](api.rst#ipysheet.sheet.Sheet) instance, leaving that expression as a last statement of a code cell will display it, otherwise use `display(sheet)`.\n",
    "\n",
    "Note that this documentation is a Jupyter notebook, and you can try it out directly on Binder:\n",
    "[![Binder](https://mybinder.org/badge.svg)](https://mybinder.org/v2/gh/QuantStack/ipysheet/master?filepath=docs%2Fsource%2Findex.ipynb)"
   ]
  },
  {
   "cell_type": "code",
   "execution_count": 1,
   "metadata": {},
   "outputs": [
    {
     "data": {
      "application/vnd.jupyter.widget-view+json": {
       "model_id": "f4ff470ae36f47fbbd41fec1c0f33c72",
       "version_major": 2,
       "version_minor": 0
      },
      "text/plain": [
       "Sheet(columns=5, rows=5)"
      ]
     },
     "metadata": {},
     "output_type": "display_data"
    }
   ],
   "source": [
    "import ipysheet\n",
    "sheet = ipysheet.sheet()\n",
    "sheet"
   ]
  },
  {
   "cell_type": "markdown",
   "metadata": {},
   "source": [
    "Using the [cell](api.rst#ipysheet.easy.cell) function, we can create [Cell](api.rst#ipysheet.sheet.Cell) widgets that are directly added to the current sheet."
   ]
  },
  {
   "cell_type": "code",
   "execution_count": 2,
   "metadata": {},
   "outputs": [
    {
     "data": {
      "application/vnd.jupyter.widget-view+json": {
       "model_id": "ed50a15183c44808b15ff47fe550e6ad",
       "version_major": 2,
       "version_minor": 0
      },
      "text/plain": [
       "Sheet(cells=(Cell(column_end=0, column_start=0, row_end=0, row_start=0, type='text', value='Hello'), Cell(colu…"
      ]
     },
     "metadata": {},
     "output_type": "display_data"
    }
   ],
   "source": [
    "sheet = ipysheet.sheet(rows=3, columns=4)\n",
    "cell1 = ipysheet.cell(0, 0, 'Hello')\n",
    "cell2 = ipysheet.cell(2, 0, 'World')\n",
    "cell_value = ipysheet.cell(2,2, 42.)\n",
    "sheet"
   ]
  },
  {
   "cell_type": "markdown",
   "metadata": {},
   "source": [
    "# Events\n",
    "Using link or observe we can link widgets together, or attach event handlers"
   ]
  },
  {
   "cell_type": "markdown",
   "metadata": {
    "raw_mimetype": "text/html"
   },
   "source": [
    "\n",
    "<div class=\"alert alert-warning\">\n",
    "\n",
    "**Note:** The examples below contain event handler written in Python that needs a running kernel, they will not work in the pure html documentation. They do work in binder!\n",
    "\n",
    "</div>\n"
   ]
  },
  {
   "cell_type": "code",
   "execution_count": 3,
   "metadata": {},
   "outputs": [
    {
     "data": {
      "application/vnd.jupyter.widget-view+json": {
       "model_id": "4377673eadff475cbc2ab6ebec1221d5",
       "version_major": 2,
       "version_minor": 0
      },
      "text/plain": [
       "VBox(children=(Sheet(cells=(Cell(column_end=1, column_start=1, row_end=0, row_start=0, type='numeric', value=1…"
      ]
     },
     "metadata": {},
     "output_type": "display_data"
    }
   ],
   "source": [
    "import ipywidgets as widgets\n",
    "sheet = ipysheet.sheet(rows=3, columns=2, column_headers=False, row_headers=False)\n",
    "cell_a = ipysheet.cell(0, 1, 1, label_left='a')\n",
    "cell_b = ipysheet.cell(1, 1, 2, label_left='b')\n",
    "cell_sum = ipysheet.cell(2, 1, 3, label_left='sum', read_only=True)\n",
    "\n",
    "# create a slider linked to cell a\n",
    "slider = widgets.FloatSlider(min=-10, max=10, description='a')\n",
    "widgets.jslink((cell_a, 'value'), (slider, 'value'))\n",
    "\n",
    "# changes in a or b should trigger this function\n",
    "def calculate(change):\n",
    "    cell_sum.value = cell_a.value + cell_b.value\n",
    "\n",
    "cell_a.observe(calculate, 'value')\n",
    "cell_b.observe(calculate, 'value')\n",
    "\n",
    "\n",
    "widgets.VBox([sheet, slider])"
   ]
  },
  {
   "cell_type": "markdown",
   "metadata": {},
   "source": [
    "# Cell ranges\n",
    "Instead of referring to a single cell, we can also refer to cell ranges, rows and columns."
   ]
  },
  {
   "cell_type": "code",
   "execution_count": 4,
   "metadata": {},
   "outputs": [
    {
     "data": {
      "application/vnd.jupyter.widget-view+json": {
       "model_id": "ec061edbce744dae883ab84c70c99a39",
       "version_major": 2,
       "version_minor": 0
      },
      "text/plain": [
       "Sheet(cells=(Cell(column_end=3, column_start=0, row_end=0, row_start=0, squeeze_column=False, style={'backgrou…"
      ]
     },
     "metadata": {},
     "output_type": "display_data"
    }
   ],
   "source": [
    "sheet = ipysheet.sheet(rows=5, columns=4)\n",
    "row = ipysheet.row(0, [0, 1, 2, 3], background_color=\"red\")\n",
    "column = ipysheet.column(1, [\"a\", \"b\", \"c\", \"d\"], row_start=1, background_color=\"green\")\n",
    "cells = ipysheet.cell_range([[\"hi\", \"ola\"], [\"ciao\", \"bonjour\"], [\"hallo\", \"guten tag\"]],\n",
    "                            row_start=1, column_start=2, background_color=\"yellow\")\n",
    "sheet\n"
   ]
  },
  {
   "cell_type": "markdown",
   "metadata": {},
   "source": [
    "## Calculations\n",
    "Since this is such a common pattern, a helper decorator [calculation](api.rst#ipysheet.easy.calculation) is provided, shortening the above code considerably."
   ]
  },
  {
   "cell_type": "code",
   "execution_count": 5,
   "metadata": {},
   "outputs": [
    {
     "data": {
      "application/vnd.jupyter.widget-view+json": {
       "model_id": "84ba2d613f244d6598f18e96e71dc47a",
       "version_major": 2,
       "version_minor": 0
      },
      "text/plain": [
       "VBox(children=(Sheet(cells=(Cell(column_end=1, column_start=1, row_end=0, row_start=0, type='numeric', value=1…"
      ]
     },
     "metadata": {},
     "output_type": "display_data"
    }
   ],
   "source": [
    "import ipywidgets as widgets\n",
    "sheet = ipysheet.sheet(rows=3, columns=2, column_headers=False, row_headers=False)\n",
    "cell_a = ipysheet.cell(0, 1, 1, label_left='a')\n",
    "cell_b = ipysheet.cell(1, 1, 2, label_left='b')\n",
    "cell_sum = ipysheet.cell(2, 1, 3, label_left='sum', read_only=True)\n",
    "\n",
    "# create a slider linked to cell a\n",
    "slider = widgets.FloatSlider(min=-10, max=10, description='a')\n",
    "widgets.jslink((cell_a, 'value'), (slider, 'value'))\n",
    "\n",
    "@ipysheet.calculation(inputs=[cell_a, cell_b], output=cell_sum)\n",
    "def calculate(a, b):\n",
    "    return a + b\n",
    "\n",
    "widgets.VBox([sheet, slider])"
   ]
  },
  {
   "cell_type": "markdown",
   "metadata": {},
   "source": [
    "# Renderers\n",
    "ipysheet is build on Handsontable, which allows [custom renderers](https://docs.handsontable.com/demo-custom-renderers.html), which we also support. Note that this means ipysheet allows arbitrary JavaScript injection (TODO: make this part optional)"
   ]
  },
  {
   "cell_type": "code",
   "execution_count": 6,
   "metadata": {},
   "outputs": [],
   "source": [
    "jscode_renderer_negative = \"\"\"\n",
    "function (instance, td, row, col, prop, value, cellProperties) {\n",
    "    Handsontable.renderers.TextRenderer.apply(this, arguments);\n",
    "    if (value < 0)\n",
    "        td.style.backgroundColor = 'red'\n",
    "    else\n",
    "        td.style.backgroundColor = 'green'\n",
    "}\n",
    "\"\"\"\n",
    "ipysheet.renderer(code=jscode_renderer_negative, name='negative');"
   ]
  },
  {
   "cell_type": "code",
   "execution_count": 7,
   "metadata": {},
   "outputs": [
    {
     "data": {
      "application/vnd.jupyter.widget-view+json": {
       "model_id": "3518aa67aad24dbda94d71ad73e4f1be",
       "version_major": 2,
       "version_minor": 0
      },
      "text/plain": [
       "Sheet(cells=(Cell(column_end=3, column_start=0, renderer='negative', row_end=2, row_start=0, squeeze_column=Fa…"
      ]
     },
     "metadata": {},
     "output_type": "display_data"
    }
   ],
   "source": [
    "import random\n",
    "s = ipysheet.sheet(rows=3, columns=4)\n",
    "data = [[random.randint(-10, 10) for j in range(4)] for j in range(3)]\n",
    "ipysheet.cell_range(data, renderer='negative')\n",
    "s"
   ]
  },
  {
   "cell_type": "markdown",
   "metadata": {},
   "source": [
    "If [flexx](http://flexx.readthedocs.io/en/stable/pyscript/index.html) is installed, Python code can be transpiled to JavaScript at runtime."
   ]
  },
  {
   "cell_type": "code",
   "execution_count": 8,
   "metadata": {},
   "outputs": [],
   "source": [
    "def renderer_negative(instance, td, row, col, prop, value, cellProperties):\n",
    "    Handsontable.renderers.TextRenderer.apply(this, arguments);\n",
    "    if value < 0:\n",
    "        td.style.backgroundColor = 'orange'\n",
    "    else:\n",
    "        td.style.backgroundColor = ''\n",
    "ipysheet.renderer(code=renderer_negative, name='negative_transpiled');"
   ]
  },
  {
   "cell_type": "code",
   "execution_count": 9,
   "metadata": {},
   "outputs": [
    {
     "data": {
      "application/vnd.jupyter.widget-view+json": {
       "model_id": "7e358c1b47034cd7aad1710a9e3c841b",
       "version_major": 2,
       "version_minor": 0
      },
      "text/plain": [
       "Sheet(cells=(Cell(column_end=3, column_start=0, renderer='negative_transpiled', row_end=2, row_start=0, squeez…"
      ]
     },
     "metadata": {},
     "output_type": "display_data"
    }
   ],
   "source": [
    "import random\n",
    "s = ipysheet.sheet(rows=3, columns=4)\n",
    "data = [[random.randint(-10, 10) for j in range(4)] for j in range(3)]\n",
    "ipysheet.cell_range(data, renderer='negative_transpiled')\n",
    "s"
   ]
  },
  {
   "cell_type": "markdown",
   "metadata": {
    "nbsphinx-toctree": {}
   },
   "source": [
    "[api](api.rst)"
   ]
  }
 ],
 "metadata": {
  "celltoolbar": "Raw Cell Format",
  "kernelspec": {
   "display_name": "Python 3",
   "language": "python",
   "name": "python3"
  },
  "language_info": {
   "codemirror_mode": {
    "name": "ipython",
    "version": 3
   },
   "file_extension": ".py",
   "mimetype": "text/x-python",
   "name": "python",
   "nbconvert_exporter": "python",
   "pygments_lexer": "ipython3",
   "version": "3.6.4"
  },
  "widgets": {
   "application/vnd.jupyter.widget-state+json": {
    "state": {
     "02c6ffb2a3574ae2a5bfc2470a691749": {
      "model_module": "ipysheet",
      "model_module_version": "~0.3.2",
      "model_name": "CellRangeModel",
      "state": {
       "_view_module": null,
       "_view_module_version": "",
       "column_end": 0,
       "column_start": 0,
       "row_end": 2,
       "row_start": 2,
       "style": {
        "fontWeight": "bold"
       },
       "type": "text",
       "value": "sum"
      }
     },
     "0718bfa157364d4bb65750f58937c12d": {
      "model_module": "ipysheet",
      "model_module_version": "~0.3.2",
      "model_name": "SheetModel",
      "state": {
       "cells": [
        "IPY_MODEL_47ae6912f13742d7a28dc10962cbec50",
        "IPY_MODEL_67e9c2635ab04164ac7efa2b1376344e",
        "IPY_MODEL_a1d31e699de3475599694007f9e9e89b",
        "IPY_MODEL_683c95333a5243a087036cd38e7d169e",
        "IPY_MODEL_93cd401053244460904862bae09792d3",
        "IPY_MODEL_2eadc922176245f393495627fe5800fc"
       ],
       "column_headers": false,
       "columns": 2,
       "layout": "IPY_MODEL_2cca2666f023462581ad2ab7657d46a4",
       "row_headers": false
      }
     },
     "144595b788664e058e7bbfdd067b24bc": {
      "model_module": "ipysheet",
      "model_module_version": "~0.3.2",
      "model_name": "CellRangeModel",
      "state": {
       "_view_module": null,
       "_view_module_version": "",
       "column_end": 0,
       "column_start": 0,
       "row_end": 2,
       "row_start": 2,
       "type": "text",
       "value": "World"
      }
     },
     "159ddf1746d04210bb065984dd6c87c7": {
      "model_module": "@jupyter-widgets/base",
      "model_module_version": "1.1.0",
      "model_name": "LayoutModel",
      "state": {}
     },
     "1d181f898a61458b876f08b2b3cc393f": {
      "model_module": "ipysheet",
      "model_module_version": "~0.3.2",
      "model_name": "CellRangeModel",
      "state": {
       "_view_module": null,
       "_view_module_version": "",
       "read_only": true,
       "row_end": 2,
       "row_start": 2,
       "type": "numeric",
       "value": 3
      }
     },
     "21938a664ec940169a53d13571954778": {
      "model_module": "ipysheet",
      "model_module_version": "~0.3.2",
      "model_name": "CellRangeModel",
      "state": {
       "_view_module": null,
       "_view_module_version": "",
       "column_end": 3,
       "column_start": 0,
       "renderer": "negative_transpiled",
       "row_end": 2,
       "row_start": 0,
       "squeeze_column": false,
       "squeeze_row": false,
       "type": "numeric",
       "value": [
        [
         1,
         4,
         -6,
         -2
        ],
        [
         4,
         0,
         -3,
         1
        ],
        [
         -9,
         -3,
         4,
         7
        ]
       ]
      }
     },
     "24da3ceaa4db4de58b08c93542e112d9": {
      "model_module": "@jupyter-widgets/base",
      "model_module_version": "1.1.0",
      "model_name": "LayoutModel",
      "state": {}
     },
     "2cca2666f023462581ad2ab7657d46a4": {
      "model_module": "@jupyter-widgets/base",
      "model_module_version": "1.1.0",
      "model_name": "LayoutModel",
      "state": {}
     },
     "2eadc922176245f393495627fe5800fc": {
      "model_module": "ipysheet",
      "model_module_version": "~0.3.2",
      "model_name": "CellRangeModel",
      "state": {
       "_view_module": null,
       "_view_module_version": "",
       "column_end": 0,
       "column_start": 0,
       "row_end": 2,
       "row_start": 2,
       "style": {
        "fontWeight": "bold"
       },
       "type": "text",
       "value": "sum"
      }
     },
     "3518aa67aad24dbda94d71ad73e4f1be": {
      "model_module": "ipysheet",
      "model_module_version": "~0.3.2",
      "model_name": "SheetModel",
      "state": {
       "cells": [
        "IPY_MODEL_cb699cbddf6a485fb0d94d10c82e1af4"
       ],
       "layout": "IPY_MODEL_c05bdf683cb1476792ed4143af8548f4"
      }
     },
     "3e4248ee1f1846f7b21a8f94014333fa": {
      "model_module": "@jupyter-widgets/base",
      "model_module_version": "1.1.0",
      "model_name": "LayoutModel",
      "state": {}
     },
     "4377673eadff475cbc2ab6ebec1221d5": {
      "model_module": "@jupyter-widgets/controls",
      "model_module_version": "1.4.0",
      "model_name": "VBoxModel",
      "state": {
       "children": [
        "IPY_MODEL_7caa6232808a49b0882552085b057a96",
        "IPY_MODEL_f1bd3009891b42b7b2e452cdec2953eb"
       ],
       "layout": "IPY_MODEL_159ddf1746d04210bb065984dd6c87c7"
      }
     },
     "448f400b94014388bde798b0814681e2": {
      "model_module": "ipysheet",
      "model_module_version": "~0.3.2",
      "model_name": "CellRangeModel",
      "state": {
       "_view_module": null,
       "_view_module_version": "",
       "column_end": 0,
       "column_start": 0,
       "row_end": 0,
       "row_start": 0,
       "style": {
        "fontWeight": "bold"
       },
       "type": "text",
       "value": "a"
      }
     },
     "47ae6912f13742d7a28dc10962cbec50": {
      "model_module": "ipysheet",
      "model_module_version": "~0.3.2",
      "model_name": "CellRangeModel",
      "state": {
       "_view_module": null,
       "_view_module_version": "",
       "row_end": 0,
       "row_start": 0,
       "type": "numeric",
       "value": 1
      }
     },
     "4c2f4875cb384187b99174b4df3b7f92": {
      "model_module": "@jupyter-widgets/controls",
      "model_module_version": "1.4.0",
      "model_name": "SliderStyleModel",
      "state": {
       "description_width": ""
      }
     },
     "5716809d8af947f0af7b8df27ddbc72e": {
      "model_module": "ipysheet",
      "model_module_version": "~0.3.2",
      "model_name": "CellRangeModel",
      "state": {
       "_view_module": null,
       "_view_module_version": "",
       "column_end": 3,
       "column_start": 0,
       "row_end": 0,
       "row_start": 0,
       "squeeze_column": false,
       "style": {
        "backgroundColor": "red"
       },
       "type": "numeric",
       "value": [
        0,
        1,
        2,
        3
       ]
      }
     },
     "63628cd5c8b9439aaaf2a7b22d926705": {
      "model_module": "ipysheet/renderer",
      "model_module_version": "~0.3.2",
      "model_name": "RendererModel",
      "state": {
       "_model_module": "ipysheet/renderer",
       "_view_module": "ipysheet/renderer",
       "_view_module_version": "~0.3.2",
       "code": "\nfunction (instance, td, row, col, prop, value, cellProperties) {\n    Handsontable.renderers.TextRenderer.apply(this, arguments);\n    if (value < 0)\n        td.style.backgroundColor = 'red'\n    else\n        td.style.backgroundColor = 'green'\n}\n",
       "name": "negative"
      }
     },
     "67e9c2635ab04164ac7efa2b1376344e": {
      "model_module": "ipysheet",
      "model_module_version": "~0.3.2",
      "model_name": "CellRangeModel",
      "state": {
       "_view_module": null,
       "_view_module_version": "",
       "column_end": 0,
       "column_start": 0,
       "row_end": 0,
       "row_start": 0,
       "style": {
        "fontWeight": "bold"
       },
       "type": "text",
       "value": "a"
      }
     },
     "683c95333a5243a087036cd38e7d169e": {
      "model_module": "ipysheet",
      "model_module_version": "~0.3.2",
      "model_name": "CellRangeModel",
      "state": {
       "_view_module": null,
       "_view_module_version": "",
       "column_end": 0,
       "column_start": 0,
       "style": {
        "fontWeight": "bold"
       },
       "type": "text",
       "value": "b"
      }
     },
     "6b8f7115d3b947cb8fe7c02ffda77f3c": {
      "model_module": "@jupyter-widgets/base",
      "model_module_version": "1.1.0",
      "model_name": "LayoutModel",
      "state": {}
     },
     "6e072e9c83b14ae1b45e7032db1875c9": {
      "model_module": "ipysheet",
      "model_module_version": "~0.3.2",
      "model_name": "CellRangeModel",
      "state": {
       "_view_module": null,
       "_view_module_version": "",
       "type": "numeric",
       "value": 2
      }
     },
     "73c4c200cd90487f9b79574dfdf57236": {
      "model_module": "@jupyter-widgets/controls",
      "model_module_version": "1.4.0",
      "model_name": "SliderStyleModel",
      "state": {
       "description_width": ""
      }
     },
     "75893b3d0a274f6ab4899bb09154e62e": {
      "model_module": "@jupyter-widgets/controls",
      "model_module_version": "1.4.0",
      "model_name": "LinkModel",
      "state": {
       "source": [
        "IPY_MODEL_47ae6912f13742d7a28dc10962cbec50",
        "value"
       ],
       "target": [
        "IPY_MODEL_dc68e28e0dbf4ef38b6e69d5ce1b00a1",
        "value"
       ]
      }
     },
     "7bbd43112c784faa851ee6c3c20520eb": {
      "model_module": "@jupyter-widgets/base",
      "model_module_version": "1.1.0",
      "model_name": "LayoutModel",
      "state": {}
     },
     "7caa6232808a49b0882552085b057a96": {
      "model_module": "ipysheet",
      "model_module_version": "~0.3.2",
      "model_name": "SheetModel",
      "state": {
       "cells": [
        "IPY_MODEL_cd87106cdc614abf9c9476c96bbcdff7",
        "IPY_MODEL_448f400b94014388bde798b0814681e2",
        "IPY_MODEL_6e072e9c83b14ae1b45e7032db1875c9",
        "IPY_MODEL_80f685c03957456981fec8751e9bfe3e",
        "IPY_MODEL_1d181f898a61458b876f08b2b3cc393f",
        "IPY_MODEL_02c6ffb2a3574ae2a5bfc2470a691749"
       ],
       "column_headers": false,
       "columns": 2,
       "layout": "IPY_MODEL_24da3ceaa4db4de58b08c93542e112d9",
       "row_headers": false
      }
     },
     "7cdf298d44594764842e0ecfd3911bfd": {
      "model_module": "ipysheet",
      "model_module_version": "~0.3.2",
      "model_name": "CellRangeModel",
      "state": {
       "_view_module": null,
       "_view_module_version": "",
       "column_end": 3,
       "column_start": 2,
       "row_end": 3,
       "squeeze_column": false,
       "squeeze_row": false,
       "style": {
        "backgroundColor": "yellow"
       },
       "type": "text",
       "value": [
        [
         "hi",
         "ola"
        ],
        [
         "ciao",
         "bonjour"
        ],
        [
         "hallo",
         "guten tag"
        ]
       ]
      }
     },
     "7d89d0bc91c6459795da520714a112c5": {
      "model_module": "ipysheet/renderer",
      "model_module_version": "~0.3.2",
      "model_name": "RendererModel",
      "state": {
       "_model_module": "ipysheet/renderer",
       "_view_module": "ipysheet/renderer",
       "_view_module_version": "~0.3.2",
       "code": "\nfunction() {\n                  var the_renderer;\n                the_renderer = function flx_the_renderer (instance, td, row, col, prop, value, cellProperties) {\n                    Handsontable.renderers.TextRenderer.apply(this, arguments);\n                    if ((value < 0)) {\n                        td.style.backgroundColor = \"orange\";\n                    } else {\n                        td.style.backgroundColor = \"\";\n                    }\n                    return null;\n                };\n\n  return the_renderer\n\n}()\n",
       "name": "negative_transpiled"
      }
     },
     "7e358c1b47034cd7aad1710a9e3c841b": {
      "model_module": "ipysheet",
      "model_module_version": "~0.3.2",
      "model_name": "SheetModel",
      "state": {
       "cells": [
        "IPY_MODEL_21938a664ec940169a53d13571954778"
       ],
       "layout": "IPY_MODEL_6b8f7115d3b947cb8fe7c02ffda77f3c"
      }
     },
     "80f685c03957456981fec8751e9bfe3e": {
      "model_module": "ipysheet",
      "model_module_version": "~0.3.2",
      "model_name": "CellRangeModel",
      "state": {
       "_view_module": null,
       "_view_module_version": "",
       "column_end": 0,
       "column_start": 0,
       "style": {
        "fontWeight": "bold"
       },
       "type": "text",
       "value": "b"
      }
     },
     "8226e9661eb0410dab3c9a0a4af36489": {
      "model_module": "@jupyter-widgets/controls",
      "model_module_version": "1.4.0",
      "model_name": "LinkModel",
      "state": {
       "source": [
        "IPY_MODEL_cd87106cdc614abf9c9476c96bbcdff7",
        "value"
       ],
       "target": [
        "IPY_MODEL_f1bd3009891b42b7b2e452cdec2953eb",
        "value"
       ]
      }
     },
     "84ba2d613f244d6598f18e96e71dc47a": {
      "model_module": "@jupyter-widgets/controls",
      "model_module_version": "1.4.0",
      "model_name": "VBoxModel",
      "state": {
       "children": [
        "IPY_MODEL_0718bfa157364d4bb65750f58937c12d",
        "IPY_MODEL_dc68e28e0dbf4ef38b6e69d5ce1b00a1"
       ],
       "layout": "IPY_MODEL_7bbd43112c784faa851ee6c3c20520eb"
      }
     },
     "93cd401053244460904862bae09792d3": {
      "model_module": "ipysheet",
      "model_module_version": "~0.3.2",
      "model_name": "CellRangeModel",
      "state": {
       "_view_module": null,
       "_view_module_version": "",
       "read_only": true,
       "row_end": 2,
       "row_start": 2,
       "type": "numeric",
       "value": 3
      }
     },
     "943eddd2c048403f9805c5da9582015d": {
      "model_module": "@jupyter-widgets/base",
      "model_module_version": "1.1.0",
      "model_name": "LayoutModel",
      "state": {}
     },
     "a1d31e699de3475599694007f9e9e89b": {
      "model_module": "ipysheet",
      "model_module_version": "~0.3.2",
      "model_name": "CellRangeModel",
      "state": {
       "_view_module": null,
       "_view_module_version": "",
       "type": "numeric",
       "value": 2
      }
     },
     "b5ddea17b0b642a9bd491da34483d797": {
      "model_module": "ipysheet",
      "model_module_version": "~0.3.2",
      "model_name": "CellRangeModel",
      "state": {
       "_view_module": null,
       "_view_module_version": "",
       "row_end": 4,
       "squeeze_row": false,
       "style": {
        "backgroundColor": "green"
       },
       "type": "text",
       "value": [
        "a",
        "b",
        "c",
        "d"
       ]
      }
     },
     "b5e8153060fb4be1b07163308a7f4870": {
      "model_module": "@jupyter-widgets/base",
      "model_module_version": "1.1.0",
      "model_name": "LayoutModel",
      "state": {}
     },
     "c05bdf683cb1476792ed4143af8548f4": {
      "model_module": "@jupyter-widgets/base",
      "model_module_version": "1.1.0",
      "model_name": "LayoutModel",
      "state": {}
     },
     "cb699cbddf6a485fb0d94d10c82e1af4": {
      "model_module": "ipysheet",
      "model_module_version": "~0.3.2",
      "model_name": "CellRangeModel",
      "state": {
       "_view_module": null,
       "_view_module_version": "",
       "column_end": 3,
       "column_start": 0,
       "renderer": "negative",
       "row_end": 2,
       "row_start": 0,
       "squeeze_column": false,
       "squeeze_row": false,
       "type": "numeric",
       "value": [
        [
         2,
         0,
         -9,
         -6
        ],
        [
         2,
         8,
         -2,
         -1
        ],
        [
         -9,
         8,
         4,
         9
        ]
       ]
      }
     },
     "cd87106cdc614abf9c9476c96bbcdff7": {
      "model_module": "ipysheet",
      "model_module_version": "~0.3.2",
      "model_name": "CellRangeModel",
      "state": {
       "_view_module": null,
       "_view_module_version": "",
       "row_end": 0,
       "row_start": 0,
       "type": "numeric",
       "value": 1
      }
     },
     "d57ddf840a94432eb23a505b78999478": {
      "model_module": "ipysheet",
      "model_module_version": "~0.3.2",
      "model_name": "CellRangeModel",
      "state": {
       "_view_module": null,
       "_view_module_version": "",
       "column_end": 2,
       "column_start": 2,
       "row_end": 2,
       "row_start": 2,
       "type": "numeric",
       "value": 42
      }
     },
     "d748a787773541c59f16311cb184ddd7": {
      "model_module": "@jupyter-widgets/base",
      "model_module_version": "1.1.0",
      "model_name": "LayoutModel",
      "state": {}
     },
     "dc68e28e0dbf4ef38b6e69d5ce1b00a1": {
      "model_module": "@jupyter-widgets/controls",
      "model_module_version": "1.4.0",
      "model_name": "FloatSliderModel",
      "state": {
       "description": "a",
       "layout": "IPY_MODEL_943eddd2c048403f9805c5da9582015d",
       "max": 10,
       "min": -10,
       "step": 0.1,
       "style": "IPY_MODEL_4c2f4875cb384187b99174b4df3b7f92",
       "value": 1
      }
     },
     "ec061edbce744dae883ab84c70c99a39": {
      "model_module": "ipysheet",
      "model_module_version": "~0.3.2",
      "model_name": "SheetModel",
      "state": {
       "cells": [
        "IPY_MODEL_5716809d8af947f0af7b8df27ddbc72e",
        "IPY_MODEL_b5ddea17b0b642a9bd491da34483d797",
        "IPY_MODEL_7cdf298d44594764842e0ecfd3911bfd"
       ],
       "layout": "IPY_MODEL_3e4248ee1f1846f7b21a8f94014333fa",
       "rows": 5
      }
     },
     "ed50a15183c44808b15ff47fe550e6ad": {
      "model_module": "ipysheet",
      "model_module_version": "~0.3.2",
      "model_name": "SheetModel",
      "state": {
       "cells": [
        "IPY_MODEL_f4d437d272124997bda9c78d186dd00e",
        "IPY_MODEL_144595b788664e058e7bbfdd067b24bc",
        "IPY_MODEL_d57ddf840a94432eb23a505b78999478"
       ],
       "layout": "IPY_MODEL_d748a787773541c59f16311cb184ddd7"
      }
     },
     "f0e105c43da84c6fa81e162249a61057": {
      "model_module": "@jupyter-widgets/base",
      "model_module_version": "1.1.0",
      "model_name": "LayoutModel",
      "state": {}
     },
     "f1bd3009891b42b7b2e452cdec2953eb": {
      "model_module": "@jupyter-widgets/controls",
      "model_module_version": "1.4.0",
      "model_name": "FloatSliderModel",
      "state": {
       "description": "a",
       "layout": "IPY_MODEL_b5e8153060fb4be1b07163308a7f4870",
       "max": 10,
       "min": -10,
       "step": 0.1,
       "style": "IPY_MODEL_73c4c200cd90487f9b79574dfdf57236",
       "value": 1
      }
     },
     "f4d437d272124997bda9c78d186dd00e": {
      "model_module": "ipysheet",
      "model_module_version": "~0.3.2",
      "model_name": "CellRangeModel",
      "state": {
       "_view_module": null,
       "_view_module_version": "",
       "column_end": 0,
       "column_start": 0,
       "row_end": 0,
       "row_start": 0,
       "type": "text",
       "value": "Hello"
      }
     },
     "f4ff470ae36f47fbbd41fec1c0f33c72": {
      "model_module": "ipysheet",
      "model_module_version": "~0.3.2",
      "model_name": "SheetModel",
      "state": {
       "columns": 5,
       "layout": "IPY_MODEL_f0e105c43da84c6fa81e162249a61057",
       "rows": 5
      }
     }
    },
    "version_major": 2,
    "version_minor": 0
   }
  }
 },
 "nbformat": 4,
 "nbformat_minor": 2
}
